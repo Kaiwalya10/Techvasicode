{
 "cells": [
  {
   "cell_type": "code",
   "execution_count": 0,
   "metadata": {
    "application/vnd.databricks.v1+cell": {
     "cellMetadata": {},
     "inputWidgets": {},
     "nuid": "049824fd-d39f-4c57-9661-a7f7a86f7ad5",
     "showTitle": false,
     "title": ""
    }
   },
   "outputs": [],
   "source": [
    " /FileStore/tables/train.csv"
   ]
  },
  {
   "cell_type": "code",
   "execution_count": 0,
   "metadata": {
    "application/vnd.databricks.v1+cell": {
     "cellMetadata": {
      "byteLimit": 2048000,
      "rowLimit": 10000
     },
     "inputWidgets": {},
     "nuid": "ff5d97f4-a8cb-4d9d-8e3b-ada718429dcc",
     "showTitle": false,
     "title": ""
    }
   },
   "outputs": [
    {
     "output_type": "stream",
     "name": "stdout",
     "output_type": "stream",
     "text": [
      "Displaying data for Month: 1\n+--------------+----------+----------+--------------+\n|Order ID      |Order Date|Ship Date |Ship Mode     |\n+--------------+----------+----------+--------------+\n|CA-2017-121755|2017-01-16|2017-01-20|Second Class  |\n|CA-2017-121755|2017-01-16|2017-01-20|Second Class  |\n|CA-2016-149587|2016-01-31|2016-02-05|Second Class  |\n|CA-2016-149587|2016-01-31|2016-02-05|Second Class  |\n|CA-2016-149587|2016-01-31|2016-02-05|Second Class  |\n|CA-2016-146262|2016-01-02|2016-01-09|Standard Class|\n|CA-2016-146262|2016-01-02|2016-01-09|Standard Class|\n|CA-2016-146262|2016-01-02|2016-01-09|Standard Class|\n|CA-2016-146262|2016-01-02|2016-01-09|Standard Class|\n|CA-2016-146262|2016-01-02|2016-01-09|Standard Class|\n|CA-2017-111010|2017-01-22|2017-01-28|Standard Class|\n|CA-2018-157252|2018-01-20|2018-01-23|Second Class  |\n|US-2016-101399|2016-01-17|2016-01-24|Standard Class|\n|CA-2018-127432|2018-01-22|2018-01-27|Standard Class|\n|CA-2018-127432|2018-01-22|2018-01-27|Standard Class|\n|CA-2018-127432|2018-01-22|2018-01-27|Standard Class|\n|CA-2018-127432|2018-01-22|2018-01-27|Standard Class|\n|CA-2018-145142|2018-01-23|2018-01-25|First Class   |\n|CA-2015-135405|2015-01-09|2015-01-13|Standard Class|\n|CA-2015-135405|2015-01-09|2015-01-13|Standard Class|\n+--------------+----------+----------+--------------+\nonly showing top 20 rows\n\nDisplaying data for Month: 2\n+--------------+----------+----------+--------------+\n|Order ID      |Order Date|Ship Date |Ship Mode     |\n+--------------+----------+----------+--------------+\n|US-2018-164147|2018-02-02|2018-02-05|First Class   |\n|US-2018-164147|2018-02-02|2018-02-05|First Class   |\n|US-2018-164147|2018-02-02|2018-02-05|First Class   |\n|CA-2016-101007|2016-02-09|2016-02-13|Second Class  |\n|US-2016-145436|2016-02-28|2016-03-04|Standard Class|\n|US-2016-145436|2016-02-28|2016-03-04|Standard Class|\n|US-2015-110674|2015-02-12|2015-02-18|Standard Class|\n|CA-2015-140795|2015-02-01|2015-02-03|First Class   |\n|CA-2017-112942|2017-02-13|2017-02-18|Standard Class|\n|CA-2016-114923|2016-02-08|2016-02-13|Standard Class|\n|CA-2018-105809|2018-02-20|2018-02-23|First Class   |\n|CA-2018-105809|2018-02-20|2018-02-23|First Class   |\n|CA-2016-140921|2016-02-03|2016-02-05|First Class   |\n|CA-2016-140921|2016-02-03|2016-02-05|First Class   |\n|CA-2015-107755|2015-02-07|2015-02-12|Standard Class|\n|CA-2017-123274|2017-02-19|2017-02-24|Standard Class|\n|CA-2017-123274|2017-02-19|2017-02-24|Standard Class|\n|CA-2018-117212|2018-02-26|2018-02-28|Second Class  |\n|CA-2018-117212|2018-02-26|2018-02-28|Second Class  |\n|CA-2018-117212|2018-02-26|2018-02-28|Second Class  |\n+--------------+----------+----------+--------------+\nonly showing top 20 rows\n\nDisplaying data for Month: 3\n+--------------+----------+----------+--------------+\n|Order ID      |Order Date|Ship Date |Ship Mode     |\n+--------------+----------+----------+--------------+\n|CA-2017-118255|2017-03-11|2017-03-13|First Class   |\n|CA-2017-118255|2017-03-11|2017-03-13|First Class   |\n|CA-2016-110457|2016-03-02|2016-03-06|Standard Class|\n|CA-2017-158834|2017-03-13|2017-03-16|First Class   |\n|CA-2017-158834|2017-03-13|2017-03-16|First Class   |\n|CA-2015-104269|2015-03-01|2015-03-06|Second Class  |\n|CA-2015-140004|2015-03-21|2015-03-25|Standard Class|\n|CA-2015-140004|2015-03-21|2015-03-25|Standard Class|\n|CA-2018-155698|2018-03-08|2018-03-11|First Class   |\n|CA-2018-155698|2018-03-08|2018-03-11|First Class   |\n|CA-2018-110478|2018-03-04|2018-03-09|Standard Class|\n|CA-2018-110478|2018-03-04|2018-03-09|Standard Class|\n|CA-2018-154214|2018-03-20|2018-03-25|Second Class  |\n|CA-2018-154907|2018-03-31|2018-04-04|Standard Class|\n|US-2017-120929|2017-03-18|2017-03-21|Second Class  |\n|CA-2016-145352|2016-03-16|2016-03-22|Standard Class|\n|CA-2016-145352|2016-03-16|2016-03-22|Standard Class|\n|CA-2016-145352|2016-03-16|2016-03-22|Standard Class|\n|CA-2016-145352|2016-03-16|2016-03-22|Standard Class|\n|CA-2016-157812|2016-03-22|2016-03-26|Standard Class|\n+--------------+----------+----------+--------------+\nonly showing top 20 rows\n\nDisplaying data for Month: 4\n+--------------+----------+----------+--------------+\n|Order ID      |Order Date|Ship Date |Ship Mode     |\n+--------------+----------+----------+--------------+\n|CA-2018-114412|2018-04-15|2018-04-20|Standard Class|\n|CA-2016-115742|2016-04-18|2016-04-22|Standard Class|\n|CA-2016-115742|2016-04-18|2016-04-22|Standard Class|\n|CA-2016-115742|2016-04-18|2016-04-22|Standard Class|\n|CA-2016-115742|2016-04-18|2016-04-22|Standard Class|\n|US-2016-164175|2016-04-30|2016-05-05|Standard Class|\n|US-2016-134026|2016-04-26|2016-05-02|Standard Class|\n|US-2016-134026|2016-04-26|2016-05-02|Standard Class|\n|US-2016-134026|2016-04-26|2016-05-02|Standard Class|\n|CA-2017-159695|2017-04-05|2017-04-10|Second Class  |\n|US-2016-136476|2016-04-05|2016-04-10|Standard Class|\n|US-2018-152366|2018-04-21|2018-04-25|Second Class  |\n|US-2018-100930|2018-04-07|2018-04-12|Standard Class|\n|US-2018-100930|2018-04-07|2018-04-12|Standard Class|\n|US-2018-100930|2018-04-07|2018-04-12|Standard Class|\n|US-2018-100930|2018-04-07|2018-04-12|Standard Class|\n|US-2018-100930|2018-04-07|2018-04-12|Standard Class|\n|CA-2018-126774|2018-04-15|2018-04-17|First Class   |\n|CA-2017-162138|2017-04-23|2017-04-27|Standard Class|\n|CA-2017-162138|2017-04-23|2017-04-27|Standard Class|\n+--------------+----------+----------+--------------+\nonly showing top 20 rows\n\nDisplaying data for Month: 5\n+--------------+----------+----------+--------------+\n|Order ID      |Order Date|Ship Date |Ship Mode     |\n+--------------+----------+----------+--------------+\n|CA-2015-167164|2015-05-13|2015-05-15|Second Class  |\n|CA-2018-140088|2018-05-28|2018-05-30|Second Class  |\n|CA-2016-124919|2016-05-31|2016-06-02|First Class   |\n|CA-2016-124919|2016-05-31|2016-06-02|First Class   |\n|CA-2016-124919|2016-05-31|2016-06-02|First Class   |\n|CA-2016-118948|2016-05-28|2016-06-03|Standard Class|\n|CA-2017-162733|2017-05-11|2017-05-12|First Class   |\n|CA-2016-144253|2016-05-04|2016-05-09|Second Class  |\n|CA-2018-104745|2018-05-29|2018-06-04|Standard Class|\n|CA-2018-104745|2018-05-29|2018-06-04|Standard Class|\n|CA-2017-169166|2017-05-09|2017-05-14|Standard Class|\n|US-2017-105578|2017-05-30|2017-06-04|Standard Class|\n|US-2017-105578|2017-05-30|2017-06-04|Standard Class|\n|US-2017-105578|2017-05-30|2017-06-04|Standard Class|\n|US-2017-105578|2017-05-30|2017-06-04|Standard Class|\n|US-2017-105578|2017-05-30|2017-06-04|Standard Class|\n|US-2017-139486|2017-05-21|2017-05-23|First Class   |\n|US-2017-139486|2017-05-21|2017-05-23|First Class   |\n|CA-2017-168753|2017-05-29|2017-06-01|Second Class  |\n|CA-2017-168753|2017-05-29|2017-06-01|Second Class  |\n+--------------+----------+----------+--------------+\nonly showing top 20 rows\n\nDisplaying data for Month: 6\n+--------------+----------+----------+--------------+\n|Order ID      |Order Date|Ship Date |Ship Mode     |\n+--------------+----------+----------+--------------+\n|CA-2017-138688|2017-06-12|2017-06-16|Second Class  |\n|CA-2015-115812|2015-06-09|2015-06-14|Standard Class|\n|CA-2015-115812|2015-06-09|2015-06-14|Standard Class|\n|CA-2015-115812|2015-06-09|2015-06-14|Standard Class|\n|CA-2015-115812|2015-06-09|2015-06-14|Standard Class|\n|CA-2015-115812|2015-06-09|2015-06-14|Standard Class|\n|CA-2015-115812|2015-06-09|2015-06-14|Standard Class|\n|CA-2015-115812|2015-06-09|2015-06-14|Standard Class|\n|CA-2017-169194|2017-06-20|2017-06-25|Standard Class|\n|CA-2017-169194|2017-06-20|2017-06-25|Standard Class|\n|CA-2017-111682|2017-06-17|2017-06-18|First Class   |\n|CA-2017-111682|2017-06-17|2017-06-18|First Class   |\n|CA-2017-111682|2017-06-17|2017-06-18|First Class   |\n|CA-2017-111682|2017-06-17|2017-06-18|First Class   |\n|CA-2017-111682|2017-06-17|2017-06-18|First Class   |\n|CA-2017-111682|2017-06-17|2017-06-18|First Class   |\n|CA-2017-111682|2017-06-17|2017-06-18|First Class   |\n|CA-2017-119823|2017-06-04|2017-06-06|First Class   |\n|CA-2017-127208|2017-06-12|2017-06-15|First Class   |\n|CA-2017-127208|2017-06-12|2017-06-15|First Class   |\n+--------------+----------+----------+--------------+\nonly showing top 20 rows\n\nDisplaying data for Month: 7\n+--------------+----------+----------+--------------+\n|Order ID      |Order Date|Ship Date |Ship Mode     |\n+--------------+----------+----------+--------------+\n|US-2018-156909|2018-07-16|2018-07-18|Second Class  |\n|CA-2017-101343|2017-07-17|2017-07-22|Standard Class|\n|CA-2017-157000|2017-07-16|2017-07-22|Standard Class|\n|CA-2017-157000|2017-07-16|2017-07-22|Standard Class|\n|US-2018-124303|2018-07-06|2018-07-13|Standard Class|\n|US-2018-124303|2018-07-06|2018-07-13|Standard Class|\n|CA-2016-155334|2016-07-30|2016-07-31|First Class   |\n|CA-2016-155334|2016-07-30|2016-07-31|First Class   |\n|CA-2016-155334|2016-07-30|2016-07-31|First Class   |\n|CA-2015-129924|2015-07-12|2015-07-17|Standard Class|\n|CA-2015-129924|2015-07-12|2015-07-17|Standard Class|\n|CA-2018-134306|2018-07-08|2018-07-12|Standard Class|\n|CA-2018-134306|2018-07-08|2018-07-12|Standard Class|\n|CA-2018-134306|2018-07-08|2018-07-12|Standard Class|\n|US-2015-119137|2015-07-23|2015-07-27|Standard Class|\n|US-2015-119137|2015-07-23|2015-07-27|Standard Class|\n|US-2015-119137|2015-07-23|2015-07-27|Standard Class|\n|US-2015-119137|2015-07-23|2015-07-27|Standard Class|\n|CA-2017-103891|2017-07-12|2017-07-19|Standard Class|\n|CA-2015-127691|2015-07-22|2015-07-27|Standard Class|\n+--------------+----------+----------+--------------+\nonly showing top 20 rows\n\nDisplaying data for Month: 8\n+--------------+----------+----------+--------------+\n|Order ID      |Order Date|Ship Date |Ship Mode     |\n+--------------+----------+----------+--------------+\n|CA-2015-143336|2015-08-27|2015-09-01|Second Class  |\n|CA-2015-143336|2015-08-27|2015-09-01|Second Class  |\n|CA-2015-143336|2015-08-27|2015-09-01|Second Class  |\n|CA-2017-158568|2017-08-29|2017-09-02|Standard Class|\n|CA-2017-158568|2017-08-29|2017-09-02|Standard Class|\n|CA-2017-158568|2017-08-29|2017-09-02|Standard Class|\n|CA-2015-115259|2015-08-25|2015-08-27|Second Class  |\n|CA-2015-115259|2015-08-25|2015-08-27|Second Class  |\n|CA-2015-115259|2015-08-25|2015-08-27|Second Class  |\n|CA-2015-115259|2015-08-25|2015-08-27|Second Class  |\n|CA-2015-118962|2015-08-05|2015-08-09|Standard Class|\n|CA-2015-118962|2015-08-05|2015-08-09|Standard Class|\n|CA-2015-118962|2015-08-05|2015-08-09|Standard Class|\n|CA-2015-123260|2015-08-26|2015-08-30|Standard Class|\n|CA-2015-133690|2015-08-03|2015-08-05|First Class   |\n|CA-2015-133690|2015-08-03|2015-08-05|First Class   |\n|CA-2016-163055|2016-08-09|2016-08-16|Standard Class|\n|CA-2016-163055|2016-08-09|2016-08-16|Standard Class|\n|CA-2016-163055|2016-08-09|2016-08-16|Standard Class|\n|CA-2015-167850|2015-08-09|2015-08-16|Standard Class|\n+--------------+----------+----------+--------------+\nonly showing top 20 rows\n\nDisplaying data for Month: 9\n+--------------+----------+----------+--------------+\n|Order ID      |Order Date|Ship Date |Ship Mode     |\n+--------------+----------+----------+--------------+\n|CA-2016-106320|2016-09-25|2016-09-30|Standard Class|\n|US-2016-150630|2016-09-17|2016-09-21|Standard Class|\n|US-2016-150630|2016-09-17|2016-09-21|Standard Class|\n|US-2016-150630|2016-09-17|2016-09-21|Standard Class|\n|US-2016-150630|2016-09-17|2016-09-21|Standard Class|\n|US-2016-150630|2016-09-17|2016-09-21|Standard Class|\n|US-2016-150630|2016-09-17|2016-09-21|Standard Class|\n|US-2016-150630|2016-09-17|2016-09-21|Standard Class|\n|CA-2018-120999|2018-09-10|2018-09-15|Standard Class|\n|CA-2018-139619|2018-09-19|2018-09-23|Standard Class|\n|CA-2017-106075|2017-09-18|2017-09-23|Standard Class|\n|CA-2018-114440|2018-09-14|2018-09-17|Second Class  |\n|CA-2016-149734|2016-09-03|2016-09-08|Standard Class|\n|CA-2017-109806|2017-09-17|2017-09-22|Standard Class|\n|CA-2017-109806|2017-09-17|2017-09-22|Standard Class|\n|CA-2017-109806|2017-09-17|2017-09-22|Standard Class|\n|CA-2017-149223|2017-09-06|2017-09-11|Standard Class|\n|US-2015-134614|2015-09-20|2015-09-25|Standard Class|\n|CA-2017-110366|2017-09-05|2017-09-07|Second Class  |\n|CA-2018-106180|2018-09-18|2018-09-23|Standard Class|\n+--------------+----------+----------+--------------+\nonly showing top 20 rows\n\nDisplaying data for Month: 10\n+--------------+----------+----------+--------------+\n|Order ID      |Order Date|Ship Date |Ship Mode     |\n+--------------+----------+----------+--------------+\n|US-2016-108966|2016-10-11|2016-10-18|Standard Class|\n|US-2016-108966|2016-10-11|2016-10-18|Standard Class|\n|CA-2018-107727|2018-10-19|2018-10-23|Second Class  |\n|CA-2015-146703|2015-10-20|2015-10-25|Second Class  |\n|CA-2015-139451|2015-10-12|2015-10-16|Standard Class|\n|CA-2015-139451|2015-10-12|2015-10-16|Standard Class|\n|CA-2018-155558|2018-10-26|2018-11-02|Standard Class|\n|CA-2018-155558|2018-10-26|2018-11-02|Standard Class|\n|CA-2016-129476|2016-10-15|2016-10-20|Standard Class|\n|CA-2017-145583|2017-10-13|2017-10-19|Standard Class|\n|CA-2017-145583|2017-10-13|2017-10-19|Standard Class|\n|CA-2017-145583|2017-10-13|2017-10-19|Standard Class|\n|CA-2017-145583|2017-10-13|2017-10-19|Standard Class|\n|CA-2017-145583|2017-10-13|2017-10-19|Standard Class|\n|CA-2017-145583|2017-10-13|2017-10-19|Standard Class|\n|CA-2017-145583|2017-10-13|2017-10-19|Standard Class|\n|CA-2015-110072|2015-10-22|2015-10-28|Standard Class|\n|CA-2016-102281|2016-10-12|2016-10-14|First Class   |\n|CA-2016-102281|2016-10-12|2016-10-14|First Class   |\n|CA-2016-102281|2016-10-12|2016-10-14|First Class   |\n+--------------+----------+----------+--------------+\nonly showing top 20 rows\n\nDisplaying data for Month: 11\n+--------------+----------+----------+--------------+\n|Order ID      |Order Date|Ship Date |Ship Mode     |\n+--------------+----------+----------+--------------+\n|CA-2017-152156|2017-11-08|2017-11-11|Second Class  |\n|CA-2017-152156|2017-11-08|2017-11-11|Second Class  |\n|US-2016-118983|2016-11-22|2016-11-26|Standard Class|\n|US-2016-118983|2016-11-22|2016-11-26|Standard Class|\n|CA-2015-105893|2015-11-11|2015-11-18|Standard Class|\n|CA-2016-135545|2016-11-24|2016-11-30|Standard Class|\n|CA-2016-135545|2016-11-24|2016-11-30|Standard Class|\n|CA-2016-135545|2016-11-24|2016-11-30|Standard Class|\n|CA-2016-135545|2016-11-24|2016-11-30|Standard Class|\n|US-2015-147606|2015-11-26|2015-12-01|Second Class  |\n|US-2018-119662|2018-11-13|2018-11-16|First Class   |\n|US-2018-109484|2018-11-06|2018-11-12|Standard Class|\n|CA-2018-161018|2018-11-09|2018-11-11|Second Class  |\n|US-2016-156867|2016-11-13|2016-11-17|Standard Class|\n|US-2016-156867|2016-11-13|2016-11-17|Standard Class|\n|US-2016-156867|2016-11-13|2016-11-17|Standard Class|\n|CA-2018-119004|2018-11-23|2018-11-28|Standard Class|\n|CA-2018-119004|2018-11-23|2018-11-28|Standard Class|\n|CA-2018-119004|2018-11-23|2018-11-28|Standard Class|\n|CA-2017-128867|2017-11-03|2017-11-10|Standard Class|\n+--------------+----------+----------+--------------+\nonly showing top 20 rows\n\nDisplaying data for Month: 12\n+--------------+----------+----------+--------------+\n|Order ID      |Order Date|Ship Date |Ship Mode     |\n+--------------+----------+----------+--------------+\n|CA-2017-161389|2017-12-05|2017-12-10|Standard Class|\n|CA-2017-137330|2017-12-09|2017-12-13|Standard Class|\n|CA-2017-137330|2017-12-09|2017-12-13|Standard Class|\n|CA-2017-117590|2017-12-08|2017-12-10|First Class   |\n|CA-2017-117590|2017-12-08|2017-12-10|First Class   |\n|CA-2016-117415|2016-12-27|2016-12-31|Standard Class|\n|CA-2016-117415|2016-12-27|2016-12-31|Standard Class|\n|CA-2016-117415|2016-12-27|2016-12-31|Standard Class|\n|CA-2016-117415|2016-12-27|2016-12-31|Standard Class|\n|CA-2017-105816|2017-12-11|2017-12-17|Standard Class|\n|CA-2017-105816|2017-12-11|2017-12-17|Standard Class|\n|CA-2015-106376|2015-12-05|2015-12-10|Standard Class|\n|CA-2015-106376|2015-12-05|2015-12-10|Standard Class|\n|US-2018-118038|2018-12-09|2018-12-11|First Class   |\n|US-2018-118038|2018-12-09|2018-12-11|First Class   |\n|US-2018-118038|2018-12-09|2018-12-11|First Class   |\n|CA-2017-129903|2017-12-01|2017-12-04|Second Class  |\n|CA-2018-146780|2018-12-25|2018-12-30|Standard Class|\n|US-2015-152030|2015-12-26|2015-12-28|Second Class  |\n|CA-2018-155376|2018-12-22|2018-12-27|Standard Class|\n+--------------+----------+----------+--------------+\nonly showing top 20 rows\n\n"
     ]
    }
   ],
   "source": [
    "from pyspark.sql import SparkSession\n",
    "\n",
    "# Initialize Spark session\n",
    "spark = SparkSession.builder.appName(\"Sales Dataset\").getOrCreate()\n",
    "\n",
    "# Load the CSV data\n",
    "data = \"/FileStore/tables/train.csv\"\n",
    "df = spark.read.format(\"csv\").option(\"header\", \"true\").option(\"inferschema\", \"true\").load(data)\n",
    "\n",
    "# Register DataFrame as a SQL temporary view\n",
    "df.createOrReplaceTempView(\"sales_data\")\n",
    "\n",
    "# SQL to create a new temporary view with the 'Order Month' column and selected important columns\n",
    "spark.sql(\"\"\"\n",
    "    CREATE OR REPLACE TEMP VIEW sales_data_with_month AS\n",
    "    SELECT `Order ID`, `Order Date`, `Ship Date`, `Ship Mode`, MONTH(`Order Date`) AS `Order Month`\n",
    "    FROM sales_data\n",
    "\"\"\")\n",
    "\n",
    "# List of important columns to keep\n",
    "important_columns = [\"Order ID\", \"Order Date\", \"Ship Date\", \"Ship Mode\"]\n",
    "\n",
    "# Execute SQL queries for each month, focusing only on important columns\n",
    "for month_num in range(1, 13):\n",
    "    # SQL query to filter data for each month and select only important columns\n",
    "    sql_query = f\"\"\"\n",
    "        SELECT `Order ID`, `Order Date`, `Ship Date`, `Ship Mode`\n",
    "        FROM sales_data_with_month\n",
    "        WHERE `Order Month` = {month_num}\n",
    "    \"\"\"\n",
    "    \n",
    "    # Execute the query and display the data\n",
    "    print(f\"Displaying data for Month: {month_num}\")\n",
    "    month_df = spark.sql(sql_query)\n",
    "    month_df.show(truncate=False)\n",
    "    \n",
    "    # Optionally, save each partition to a new CSV file\n",
    "    month_df.write.csv(f'sales_data_2024_month_{month_num}_important.csv', header=True)\n"
   ]
  }
 ],
 "metadata": {
  "application/vnd.databricks.v1+notebook": {
   "dashboards": [],
   "environmentMetadata": null,
   "language": "python",
   "notebookMetadata": {
    "pythonIndentUnit": 4
   },
   "notebookName": "MONTHLY DATAFRAME ON TRAIN_DATASET   2024-09-09 16:07:23",
   "widgets": {}
  }
 },
 "nbformat": 4,
 "nbformat_minor": 0
}
