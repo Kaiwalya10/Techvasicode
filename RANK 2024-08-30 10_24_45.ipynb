{
 "cells": [
  {
   "cell_type": "code",
   "execution_count": 0,
   "metadata": {
    "application/vnd.databricks.v1+cell": {
     "cellMetadata": {
      "byteLimit": 2048000,
      "rowLimit": 10000
     },
     "inputWidgets": {},
     "nuid": "07585980-89f1-4f4b-acc7-9794b9b3ea08",
     "showTitle": false,
     "title": ""
    }
   },
   "outputs": [],
   "source": [
    "from pyspark.sql.window import Window\n",
    "from pyspark.sql.functions import rank, dense_rank, row_number\n"
   ]
  },
  {
   "cell_type": "code",
   "execution_count": 0,
   "metadata": {
    "application/vnd.databricks.v1+cell": {
     "cellMetadata": {
      "byteLimit": 2048000,
      "rowLimit": 10000
     },
     "inputWidgets": {},
     "nuid": "fdd67521-aa41-443d-bf2d-e1da5c3d9da6",
     "showTitle": false,
     "title": ""
    }
   },
   "outputs": [
    {
     "output_type": "stream",
     "name": "stdout",
     "output_type": "stream",
     "text": [
      "+----------+-------+-----+\n|student_id|   name|marks|\n+----------+-------+-----+\n|         1|  Alice|   85|\n|         2|    Bob|   92|\n|         3|Charlie|   85|\n|         4|  David|   92|\n|         5|    Eve|   78|\n+----------+-------+-----+\n\n"
     ]
    }
   ],
   "source": [
    "# Sample data: list of tuples (student_id, name, marks)\n",
    "data = [\n",
    "    (1, \"Alice\", 85),\n",
    "    (2, \"Bob\", 92),\n",
    "    (3, \"Charlie\", 85),\n",
    "    (4, \"David\", 92),\n",
    "    (5, \"Eve\", 78)\n",
    "]\n",
    "\n",
    "# Define the column names for the DataFrame\n",
    "columns = [\"student_id\", \"name\", \"marks\"]\n",
    "\n",
    "# Create a DataFrame using the sample data\n",
    "df = spark.createDataFrame(data, columns)\n",
    "\n",
    "# Display the original DataFrame\n",
    "df.show()\n"
   ]
  },
  {
   "cell_type": "code",
   "execution_count": 0,
   "metadata": {
    "application/vnd.databricks.v1+cell": {
     "cellMetadata": {
      "byteLimit": 2048000,
      "rowLimit": 10000
     },
     "inputWidgets": {},
     "nuid": "dfe1ac45-7e87-4512-b5c2-dceb9b6ae6a4",
     "showTitle": false,
     "title": ""
    }
   },
   "outputs": [],
   "source": [
    "# Define the window specification\n",
    "windowSpec = Window.orderBy(df['marks'].desc())\n"
   ]
  },
  {
   "cell_type": "code",
   "execution_count": 0,
   "metadata": {
    "application/vnd.databricks.v1+cell": {
     "cellMetadata": {
      "byteLimit": 2048000,
      "rowLimit": 10000
     },
     "inputWidgets": {},
     "nuid": "37b8c9e6-05c1-4f80-9cc4-8bdb17a17e2b",
     "showTitle": false,
     "title": ""
    }
   },
   "outputs": [
    {
     "output_type": "stream",
     "name": "stdout",
     "output_type": "stream",
     "text": [
      "+----------+-------+-----+----------+----+----------+\n|student_id|   name|marks|row_number|rank|dense_rank|\n+----------+-------+-----+----------+----+----------+\n|         2|    Bob|   92|         1|   1|         1|\n|         4|  David|   92|         2|   1|         1|\n|         1|  Alice|   85|         3|   3|         2|\n|         3|Charlie|   85|         4|   3|         2|\n|         5|    Eve|   78|         5|   5|         3|\n+----------+-------+-----+----------+----+----------+\n\n"
     ]
    }
   ],
   "source": [
    "df.withColumn(\"row_number\", row_number().over(windowSpec)) \\\n",
    "  .withColumn(\"rank\", rank().over(windowSpec)) \\\n",
    "  .withColumn(\"dense_rank\", dense_rank().over(windowSpec)) \\\n",
    "  .show()"
   ]
  }
 ],
 "metadata": {
  "application/vnd.databricks.v1+notebook": {
   "dashboards": [],
   "environmentMetadata": null,
   "language": "python",
   "notebookMetadata": {
    "pythonIndentUnit": 4
   },
   "notebookName": "RANK 2024-08-30 10:24:45",
   "widgets": {}
  }
 },
 "nbformat": 4,
 "nbformat_minor": 0
}
