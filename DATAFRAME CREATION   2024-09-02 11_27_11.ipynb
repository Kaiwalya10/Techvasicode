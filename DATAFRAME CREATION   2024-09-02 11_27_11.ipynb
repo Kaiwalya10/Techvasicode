{
 "cells": [
  {
   "cell_type": "code",
   "execution_count": 0,
   "metadata": {
    "application/vnd.databricks.v1+cell": {
     "cellMetadata": {},
     "inputWidgets": {},
     "nuid": "588db5df-dd93-4a5b-b648-18e4e2795e90",
     "showTitle": false,
     "title": ""
    }
   },
   "outputs": [],
   "source": [
    "\n",
    "/FileStore/tables/Sales_SalesOrderDetail-1.csv"
   ]
  },
  {
   "cell_type": "code",
   "execution_count": 0,
   "metadata": {
    "application/vnd.databricks.v1+cell": {
     "cellMetadata": {
      "byteLimit": 2048000,
      "rowLimit": 10000
     },
     "inputWidgets": {},
     "nuid": "be73742f-85bd-4394-9656-c95d6115eb92",
     "showTitle": false,
     "title": ""
    }
   },
   "outputs": [
    {
     "output_type": "stream",
     "name": "stdout",
     "output_type": "stream",
     "text": [
      "Sales Data for Year 2024 with Global Ranking:\n+------------+--------+---------+---------+------------+----+----+\n|SalesOrderID|OrderQty|ProductID|LineTotal|ModifiedDate|Year|Rank|\n+------------+--------+---------+---------+------------+----+----+\n+------------+--------+---------+---------+------------+----+----+\n\nSales Data for Year 2023 with Global Ranking:\n+------------+--------+---------+---------+------------+----+----+\n|SalesOrderID|OrderQty|ProductID|LineTotal|ModifiedDate|Year|Rank|\n+------------+--------+---------+---------+------------+----+----+\n+------------+--------+---------+---------+------------+----+----+\n\nSales Data for Year 2022 with Global Ranking:\n+------------+--------+---------+---------+------------+----+----+\n|SalesOrderID|OrderQty|ProductID|LineTotal|ModifiedDate|Year|Rank|\n+------------+--------+---------+---------+------------+----+----+\n+------------+--------+---------+---------+------------+----+----+\n\nSales Data for Year 2021 with Global Ranking:\n+------------+--------+---------+---------+------------+----+----+\n|SalesOrderID|OrderQty|ProductID|LineTotal|ModifiedDate|Year|Rank|\n+------------+--------+---------+---------+------------+----+----+\n+------------+--------+---------+---------+------------+----+----+\n\nSales Data for Year 2020 with Global Ranking:\n+------------+--------+---------+---------+------------+----+----+\n|SalesOrderID|OrderQty|ProductID|LineTotal|ModifiedDate|Year|Rank|\n+------------+--------+---------+---------+------------+----+----+\n+------------+--------+---------+---------+------------+----+----+\n\nSales Data for Year 2019 with Global Ranking:\n+------------+--------+---------+---------+------------+----+----+\n|SalesOrderID|OrderQty|ProductID|LineTotal|ModifiedDate|Year|Rank|\n+------------+--------+---------+---------+------------+----+----+\n+------------+--------+---------+---------+------------+----+----+\n\nSales Data for Year 2018 with Global Ranking:\n+------------+--------+---------+---------+------------+----+----+\n|SalesOrderID|OrderQty|ProductID|LineTotal|ModifiedDate|Year|Rank|\n+------------+--------+---------+---------+------------+----+----+\n+------------+--------+---------+---------+------------+----+----+\n\nSales Data for Year 2017 with Global Ranking:\n+------------+--------+---------+---------+------------+----+----+\n|SalesOrderID|OrderQty|ProductID|LineTotal|ModifiedDate|Year|Rank|\n+------------+--------+---------+---------+------------+----+----+\n+------------+--------+---------+---------+------------+----+----+\n\nSales Data for Year 2016 with Global Ranking:\n+------------+--------+---------+---------+------------+----+----+\n|SalesOrderID|OrderQty|ProductID|LineTotal|ModifiedDate|Year|Rank|\n+------------+--------+---------+---------+------------+----+----+\n+------------+--------+---------+---------+------------+----+----+\n\nSales Data for Year 2015 with Global Ranking:\n+------------+--------+---------+---------+------------+----+----+\n|SalesOrderID|OrderQty|ProductID|LineTotal|ModifiedDate|Year|Rank|\n+------------+--------+---------+---------+------------+----+----+\n+------------+--------+---------+---------+------------+----+----+\n\nSales Data for Year 2014 with Global Ranking:\n+------------+--------+---------+---------+------------+----+----+\n|SalesOrderID|OrderQty|ProductID|LineTotal|ModifiedDate|Year|Rank|\n+------------+--------+---------+---------+------------+----+----+\n+------------+--------+---------+---------+------------+----+----+\n\nSales Data for Year 2013 with Global Ranking:\n+------------+--------+---------+---------+------------+----+----+\n|SalesOrderID|OrderQty|ProductID|LineTotal|ModifiedDate|Year|Rank|\n+------------+--------+---------+---------+------------+----+----+\n+------------+--------+---------+---------+------------+----+----+\n\nSales Data for Year 2012 with Global Ranking:\n+------------+--------+---------+---------+------------+----+----+\n|SalesOrderID|OrderQty|ProductID|LineTotal|ModifiedDate|Year|Rank|\n+------------+--------+---------+---------+------------+----+----+\n+------------+--------+---------+---------+------------+----+----+\n\nSales Data for Year 2011 with Global Ranking:\n+------------+--------+---------+---------+------------+----+----+\n|SalesOrderID|OrderQty|ProductID|LineTotal|ModifiedDate|Year|Rank|\n+------------+--------+---------+---------+------------+----+----+\n+------------+--------+---------+---------+------------+----+----+\n\nSales Data for Year 2010 with Global Ranking:\n+------------+--------+---------+---------+------------+----+----+\n|SalesOrderID|OrderQty|ProductID|LineTotal|ModifiedDate|Year|Rank|\n+------------+--------+---------+---------+------------+----+----+\n+------------+--------+---------+---------+------------+----+----+\n\n"
     ]
    }
   ],
   "source": [
    "from pyspark.sql import SparkSession\n",
    "from pyspark.sql.functions import col, current_date, add_months, year, row_number\n",
    "from pyspark.sql.window import Window\n",
    "from datetime import datetime\n",
    "\n",
    "# Create a Spark session\n",
    "spark = SparkSession.builder \\\n",
    "    .appName(\"SalesDataProcessing\") \\\n",
    "    .getOrCreate()\n",
    "\n",
    "# Define schema with only important columns\n",
    "from pyspark.sql.types import StructType, StructField, IntegerType, DecimalType, DateType\n",
    "\n",
    "schema = StructType([\n",
    "    StructField(\"SalesOrderID\", IntegerType(), True),\n",
    "    StructField(\"OrderQty\", IntegerType(), True),\n",
    "    StructField(\"ProductID\", IntegerType(), True),\n",
    "    StructField(\"LineTotal\", DecimalType(20, 2), True),\n",
    "    StructField(\"ModifiedDate\", DateType(), True)\n",
    "])\n",
    "\n",
    "# Load data into DataFrame\n",
    "df = spark.read.csv(\"/FileStore/tables/Sales_SalesOrderDetail.csv\", schema=schema, header=False)\n",
    "\n",
    "# Create a DataFrame with the year extracted from the ModifiedDate\n",
    "df_with_year = df.withColumn(\"Year\", year(col(\"ModifiedDate\")))\n",
    "\n",
    "# Create DataFrames for each of the last 15 years with global ranking\n",
    "for year_offset in range(15):\n",
    "    # Calculate the end date as the current date minus (year_offset * 12) months\n",
    "    end_date_expr = add_months(current_date(), -year_offset * 12)\n",
    "    \n",
    "    # Calculate the start date as end_date minus 12 months\n",
    "    start_date_expr = add_months(end_date_expr, -12)\n",
    "    \n",
    "    # Filter the data for the specific year\n",
    "    filtered_df = df_with_year.filter(\n",
    "        (col(\"ModifiedDate\") >= start_date_expr) & (col(\"ModifiedDate\") < end_date_expr)\n",
    "    )\n",
    "    \n",
    "    # Define the window specification for global ranking\n",
    "    window_spec = Window.orderBy(col(\"LineTotal\").desc())\n",
    "    \n",
    "    # Add ranking to the DataFrame\n",
    "    ranked_df = filtered_df.withColumn(\"Rank\", row_number().over(window_spec))\n",
    "    \n",
    "    # Show the filtered and ranked DataFrame\n",
    "    print(f\"Sales Data for Year {datetime.now().year - year_offset} with Global Ranking:\")\n",
    "    ranked_df.select(\"SalesOrderID\", \"OrderQty\", \"ProductID\", \"LineTotal\", \"ModifiedDate\", \"Year\", \"Rank\").show()\n"
   ]
  },
  {
   "cell_type": "code",
   "execution_count": 0,
   "metadata": {
    "application/vnd.databricks.v1+cell": {
     "cellMetadata": {
      "byteLimit": 2048000,
      "rowLimit": 10000
     },
     "inputWidgets": {},
     "nuid": "1e8f49e1-19ed-4df8-9ca4-2f4e8490fcf3",
     "showTitle": false,
     "title": ""
    }
   },
   "outputs": [
    {
     "output_type": "stream",
     "name": "stdout",
     "output_type": "stream",
     "text": [
      "Initial DataFrame:\n+------------+--------+---------+---------+------------+\n|SalesOrderID|OrderQty|ProductID|LineTotal|ModifiedDate|\n+------------+--------+---------+---------+------------+\n|       43659|       1|     null|     1.00|        null|\n|       43659|       2|     null|     3.00|        null|\n|       43659|       3|     null|     1.00|        null|\n|       43659|       4|     null|     1.00|        null|\n|       43659|       5|     null|     1.00|        null|\n|       43659|       6|     null|     2.00|        null|\n|       43659|       7|     null|     1.00|        null|\n|       43659|       8|     null|     3.00|        null|\n|       43659|       9|     null|     1.00|        null|\n|       43659|      10|     null|     6.00|        null|\n|       43659|      11|     null|     2.00|        null|\n|       43659|      12|     null|     4.00|        null|\n|       43660|      13|     null|     1.00|        null|\n|       43660|      14|     null|     1.00|        null|\n|       43661|      15|     null|     1.00|        null|\n|       43661|      16|     null|     1.00|        null|\n|       43661|      17|     null|     2.00|        null|\n|       43661|      18|     null|     4.00|        null|\n|       43661|      19|     null|     4.00|        null|\n|       43661|      20|     null|     2.00|        null|\n+------------+--------+---------+---------+------------+\nonly showing top 20 rows\n\nDataFrame with Month column:\n+------------+--------+---------+---------+------------+-----+\n|SalesOrderID|OrderQty|ProductID|LineTotal|ModifiedDate|Month|\n+------------+--------+---------+---------+------------+-----+\n|       43659|       1|     null|     1.00|        null| null|\n|       43659|       2|     null|     3.00|        null| null|\n|       43659|       3|     null|     1.00|        null| null|\n|       43659|       4|     null|     1.00|        null| null|\n|       43659|       5|     null|     1.00|        null| null|\n|       43659|       6|     null|     2.00|        null| null|\n|       43659|       7|     null|     1.00|        null| null|\n|       43659|       8|     null|     3.00|        null| null|\n|       43659|       9|     null|     1.00|        null| null|\n|       43659|      10|     null|     6.00|        null| null|\n|       43659|      11|     null|     2.00|        null| null|\n|       43659|      12|     null|     4.00|        null| null|\n|       43660|      13|     null|     1.00|        null| null|\n|       43660|      14|     null|     1.00|        null| null|\n|       43661|      15|     null|     1.00|        null| null|\n|       43661|      16|     null|     1.00|        null| null|\n|       43661|      17|     null|     2.00|        null| null|\n|       43661|      18|     null|     4.00|        null| null|\n|       43661|      19|     null|     4.00|        null| null|\n|       43661|      20|     null|     2.00|        null| null|\n+------------+--------+---------+---------+------------+-----+\nonly showing top 20 rows\n\nSales Data for Month 1:\n+------------+--------+---------+---------+------------+-----+\n|SalesOrderID|OrderQty|ProductID|LineTotal|ModifiedDate|Month|\n+------------+--------+---------+---------+------------+-----+\n+------------+--------+---------+---------+------------+-----+\n\nSales Data for Month 2:\n+------------+--------+---------+---------+------------+-----+\n|SalesOrderID|OrderQty|ProductID|LineTotal|ModifiedDate|Month|\n+------------+--------+---------+---------+------------+-----+\n+------------+--------+---------+---------+------------+-----+\n\nSales Data for Month 3:\n+------------+--------+---------+---------+------------+-----+\n|SalesOrderID|OrderQty|ProductID|LineTotal|ModifiedDate|Month|\n+------------+--------+---------+---------+------------+-----+\n+------------+--------+---------+---------+------------+-----+\n\nSales Data for Month 4:\n+------------+--------+---------+---------+------------+-----+\n|SalesOrderID|OrderQty|ProductID|LineTotal|ModifiedDate|Month|\n+------------+--------+---------+---------+------------+-----+\n+------------+--------+---------+---------+------------+-----+\n\nSales Data for Month 5:\n+------------+--------+---------+---------+------------+-----+\n|SalesOrderID|OrderQty|ProductID|LineTotal|ModifiedDate|Month|\n+------------+--------+---------+---------+------------+-----+\n+------------+--------+---------+---------+------------+-----+\n\nSales Data for Month 6:\n+------------+--------+---------+---------+------------+-----+\n|SalesOrderID|OrderQty|ProductID|LineTotal|ModifiedDate|Month|\n+------------+--------+---------+---------+------------+-----+\n+------------+--------+---------+---------+------------+-----+\n\nSales Data for Month 7:\n+------------+--------+---------+---------+------------+-----+\n|SalesOrderID|OrderQty|ProductID|LineTotal|ModifiedDate|Month|\n+------------+--------+---------+---------+------------+-----+\n+------------+--------+---------+---------+------------+-----+\n\nSales Data for Month 8:\n+------------+--------+---------+---------+------------+-----+\n|SalesOrderID|OrderQty|ProductID|LineTotal|ModifiedDate|Month|\n+------------+--------+---------+---------+------------+-----+\n+------------+--------+---------+---------+------------+-----+\n\nSales Data for Month 9:\n+------------+--------+---------+---------+------------+-----+\n|SalesOrderID|OrderQty|ProductID|LineTotal|ModifiedDate|Month|\n+------------+--------+---------+---------+------------+-----+\n+------------+--------+---------+---------+------------+-----+\n\nSales Data for Month 10:\n+------------+--------+---------+---------+------------+-----+\n|SalesOrderID|OrderQty|ProductID|LineTotal|ModifiedDate|Month|\n+------------+--------+---------+---------+------------+-----+\n+------------+--------+---------+---------+------------+-----+\n\nSales Data for Month 11:\n+------------+--------+---------+---------+------------+-----+\n|SalesOrderID|OrderQty|ProductID|LineTotal|ModifiedDate|Month|\n+------------+--------+---------+---------+------------+-----+\n+------------+--------+---------+---------+------------+-----+\n\nSales Data for Month 12:\n+------------+--------+---------+---------+------------+-----+\n|SalesOrderID|OrderQty|ProductID|LineTotal|ModifiedDate|Month|\n+------------+--------+---------+---------+------------+-----+\n+------------+--------+---------+---------+------------+-----+\n\n"
     ]
    }
   ],
   "source": [
    "from pyspark.sql import SparkSession\n",
    "from pyspark.sql.functions import col, month\n",
    "from pyspark.sql.types import StructType, StructField, IntegerType, DecimalType, DateType\n",
    "\n",
    "# Create a Spark session\n",
    "spark = SparkSession.builder \\\n",
    "    .appName(\"SalesDataProcessing\") \\\n",
    "    .getOrCreate()\n",
    "\n",
    "# Define schema with only important columns\n",
    "schema = StructType([\n",
    "    StructField(\"SalesOrderID\", IntegerType(), True),\n",
    "    StructField(\"OrderQty\", IntegerType(), True),\n",
    "    StructField(\"ProductID\", IntegerType(), True),\n",
    "    StructField(\"LineTotal\", DecimalType(20, 2), True),\n",
    "    StructField(\"ModifiedDate\", DateType(), True)\n",
    "])\n",
    "\n",
    "# Load data into DataFrame\n",
    "df = spark.read.csv(\"/FileStore/tables/Sales_SalesOrderDetail.csv\", schema=schema, header=False)\n",
    "\n",
    "# Display the initial DataFrame\n",
    "print(\"Initial DataFrame:\")\n",
    "df.show()\n",
    "\n",
    "# Create a DataFrame with the month extracted from the ModifiedDate\n",
    "df_with_month = df.withColumn(\"Month\", month(col(\"ModifiedDate\")))\n",
    "\n",
    "# Display the DataFrame with the month column\n",
    "print(\"DataFrame with Month column:\")\n",
    "df_with_month.show()\n",
    "\n",
    "# List to store DataFrames for each month\n",
    "monthly_dfs = []\n",
    "\n",
    "# Loop through each month to create separate DataFrames\n",
    "for month_value in range(1, 13):  # 1 through 12 for January to December\n",
    "    # Filter the data for the specific month\n",
    "    month_df = df_with_month.filter(col(\"Month\") == month_value)\n",
    "    \n",
    "    # Add the filtered DataFrame to the list\n",
    "    monthly_dfs.append(month_df)\n",
    "    \n",
    "    # Show the filtered DataFrame for the specific month\n",
    "    print(f\"Sales Data for Month {month_value}:\")\n",
    "    month_df.show()\n",
    "\n",
    "# Now you have a list of DataFrames `monthly_dfs` where each entry corresponds to a different month\n"
   ]
  },
  {
   "cell_type": "code",
   "execution_count": 0,
   "metadata": {
    "application/vnd.databricks.v1+cell": {
     "cellMetadata": {
      "byteLimit": 2048000,
      "rowLimit": 10000
     },
     "inputWidgets": {},
     "nuid": "ca47fb73-ff04-4ad4-a532-90d1f22ee4bf",
     "showTitle": false,
     "title": ""
    }
   },
   "outputs": [
    {
     "output_type": "stream",
     "name": "stdout",
     "output_type": "stream",
     "text": [
      "Initial DataFrame:\n+------------+--------+---------+---------+------------+\n|SalesOrderID|OrderQty|ProductID|LineTotal|ModifiedDate|\n+------------+--------+---------+---------+------------+\n|           1|      10|      101|   500.00|  2024-01-15|\n|           2|       5|      102|   250.00|  2024-02-10|\n|           3|       8|      103|   400.00|  2024-03-05|\n|           4|      12|      104|   600.00|  2024-04-22|\n|           5|       7|      105|   350.00|  2024-05-30|\n|           6|       9|      106|   450.00|  2024-06-18|\n|           7|      11|      107|   550.00|  2024-07-09|\n|           8|       6|      108|   300.00|  2024-08-25|\n|           9|      14|      109|   700.00|  2024-09-13|\n|          10|       4|      110|   200.00|  2024-10-02|\n|          11|      13|      111|   650.00|  2024-11-20|\n|          12|      15|      112|   750.00|  2024-12-15|\n+------------+--------+---------+---------+------------+\n\nDataFrame with Month column:\n+------------+--------+---------+---------+------------+-----+\n|SalesOrderID|OrderQty|ProductID|LineTotal|ModifiedDate|Month|\n+------------+--------+---------+---------+------------+-----+\n|           1|      10|      101|   500.00|  2024-01-15|    1|\n|           2|       5|      102|   250.00|  2024-02-10|    2|\n|           3|       8|      103|   400.00|  2024-03-05|    3|\n|           4|      12|      104|   600.00|  2024-04-22|    4|\n|           5|       7|      105|   350.00|  2024-05-30|    5|\n|           6|       9|      106|   450.00|  2024-06-18|    6|\n|           7|      11|      107|   550.00|  2024-07-09|    7|\n|           8|       6|      108|   300.00|  2024-08-25|    8|\n|           9|      14|      109|   700.00|  2024-09-13|    9|\n|          10|       4|      110|   200.00|  2024-10-02|   10|\n|          11|      13|      111|   650.00|  2024-11-20|   11|\n|          12|      15|      112|   750.00|  2024-12-15|   12|\n+------------+--------+---------+---------+------------+-----+\n\nSales Data for Month 1:\n+------------+--------+---------+---------+------------+-----+\n|SalesOrderID|OrderQty|ProductID|LineTotal|ModifiedDate|Month|\n+------------+--------+---------+---------+------------+-----+\n|           1|      10|      101|   500.00|  2024-01-15|    1|\n+------------+--------+---------+---------+------------+-----+\n\nSales Data for Month 2:\n+------------+--------+---------+---------+------------+-----+\n|SalesOrderID|OrderQty|ProductID|LineTotal|ModifiedDate|Month|\n+------------+--------+---------+---------+------------+-----+\n|           2|       5|      102|   250.00|  2024-02-10|    2|\n+------------+--------+---------+---------+------------+-----+\n\nSales Data for Month 3:\n+------------+--------+---------+---------+------------+-----+\n|SalesOrderID|OrderQty|ProductID|LineTotal|ModifiedDate|Month|\n+------------+--------+---------+---------+------------+-----+\n|           3|       8|      103|   400.00|  2024-03-05|    3|\n+------------+--------+---------+---------+------------+-----+\n\nSales Data for Month 4:\n+------------+--------+---------+---------+------------+-----+\n|SalesOrderID|OrderQty|ProductID|LineTotal|ModifiedDate|Month|\n+------------+--------+---------+---------+------------+-----+\n|           4|      12|      104|   600.00|  2024-04-22|    4|\n+------------+--------+---------+---------+------------+-----+\n\nSales Data for Month 5:\n+------------+--------+---------+---------+------------+-----+\n|SalesOrderID|OrderQty|ProductID|LineTotal|ModifiedDate|Month|\n+------------+--------+---------+---------+------------+-----+\n|           5|       7|      105|   350.00|  2024-05-30|    5|\n+------------+--------+---------+---------+------------+-----+\n\nSales Data for Month 6:\n+------------+--------+---------+---------+------------+-----+\n|SalesOrderID|OrderQty|ProductID|LineTotal|ModifiedDate|Month|\n+------------+--------+---------+---------+------------+-----+\n|           6|       9|      106|   450.00|  2024-06-18|    6|\n+------------+--------+---------+---------+------------+-----+\n\nSales Data for Month 7:\n+------------+--------+---------+---------+------------+-----+\n|SalesOrderID|OrderQty|ProductID|LineTotal|ModifiedDate|Month|\n+------------+--------+---------+---------+------------+-----+\n|           7|      11|      107|   550.00|  2024-07-09|    7|\n+------------+--------+---------+---------+------------+-----+\n\nSales Data for Month 8:\n+------------+--------+---------+---------+------------+-----+\n|SalesOrderID|OrderQty|ProductID|LineTotal|ModifiedDate|Month|\n+------------+--------+---------+---------+------------+-----+\n|           8|       6|      108|   300.00|  2024-08-25|    8|\n+------------+--------+---------+---------+------------+-----+\n\nSales Data for Month 9:\n+------------+--------+---------+---------+------------+-----+\n|SalesOrderID|OrderQty|ProductID|LineTotal|ModifiedDate|Month|\n+------------+--------+---------+---------+------------+-----+\n|           9|      14|      109|   700.00|  2024-09-13|    9|\n+------------+--------+---------+---------+------------+-----+\n\nSales Data for Month 10:\n+------------+--------+---------+---------+------------+-----+\n|SalesOrderID|OrderQty|ProductID|LineTotal|ModifiedDate|Month|\n+------------+--------+---------+---------+------------+-----+\n|          10|       4|      110|   200.00|  2024-10-02|   10|\n+------------+--------+---------+---------+------------+-----+\n\nSales Data for Month 11:\n+------------+--------+---------+---------+------------+-----+\n|SalesOrderID|OrderQty|ProductID|LineTotal|ModifiedDate|Month|\n+------------+--------+---------+---------+------------+-----+\n|          11|      13|      111|   650.00|  2024-11-20|   11|\n+------------+--------+---------+---------+------------+-----+\n\nSales Data for Month 12:\n+------------+--------+---------+---------+------------+-----+\n|SalesOrderID|OrderQty|ProductID|LineTotal|ModifiedDate|Month|\n+------------+--------+---------+---------+------------+-----+\n|          12|      15|      112|   750.00|  2024-12-15|   12|\n+------------+--------+---------+---------+------------+-----+\n\n"
     ]
    }
   ],
   "source": [
    "from pyspark.sql import SparkSession\n",
    "from pyspark.sql.functions import col, month\n",
    "from pyspark.sql.types import StructType, StructField, IntegerType, DecimalType, DateType\n",
    "from datetime import date\n",
    "import decimal\n",
    "\n",
    "# Create a Spark session\n",
    "spark = SparkSession.builder \\\n",
    "    .appName(\"SalesDataProcessing\") \\\n",
    "    .getOrCreate()\n",
    "\n",
    "# Define schema\n",
    "schema = StructType([\n",
    "    StructField(\"SalesOrderID\", IntegerType(), True),\n",
    "    StructField(\"OrderQty\", IntegerType(), True),\n",
    "    StructField(\"ProductID\", IntegerType(), True),\n",
    "    StructField(\"LineTotal\", DecimalType(20, 2), True),\n",
    "    StructField(\"ModifiedDate\", DateType(), True)\n",
    "])\n",
    "\n",
    "# Sample data with Decimal conversion\n",
    "data = [\n",
    "    (1, 10, 101, decimal.Decimal(500.00), date(2024, 1, 15)),\n",
    "    (2, 5, 102, decimal.Decimal(250.00), date(2024, 2, 10)),\n",
    "    (3, 8, 103, decimal.Decimal(400.00), date(2024, 3, 5)),\n",
    "    (4, 12, 104, decimal.Decimal(600.00), date(2024, 4, 22)),\n",
    "    (5, 7, 105, decimal.Decimal(350.00), date(2024, 5, 30)),\n",
    "    (6, 9, 106, decimal.Decimal(450.00), date(2024, 6, 18)),\n",
    "    (7, 11, 107, decimal.Decimal(550.00), date(2024, 7, 9)),\n",
    "    (8, 6, 108, decimal.Decimal(300.00), date(2024, 8, 25)),\n",
    "    (9, 14, 109, decimal.Decimal(700.00), date(2024, 9, 13)),\n",
    "    (10, 4, 110, decimal.Decimal(200.00), date(2024, 10, 2)),\n",
    "    (11, 13, 111, decimal.Decimal(650.00), date(2024, 11, 20)),\n",
    "    (12, 15, 112, decimal.Decimal(750.00), date(2024, 12, 15)),\n",
    "]\n",
    "\n",
    "# Create DataFrame with sample data\n",
    "df = spark.createDataFrame(data, schema)\n",
    "\n",
    "# Display the initial DataFrame\n",
    "print(\"Initial DataFrame:\")\n",
    "df.show()\n",
    "\n",
    "# Create a DataFrame with the month extracted from the ModifiedDate\n",
    "df_with_month = df.withColumn(\"Month\", month(col(\"ModifiedDate\")))\n",
    "\n",
    "# Display the DataFrame with the month column\n",
    "print(\"DataFrame with Month column:\")\n",
    "df_with_month.show()\n",
    "\n",
    "# List to store DataFrames for each month\n",
    "monthly_dfs = []\n",
    "\n",
    "# Loop through each month to create separate DataFrames\n",
    "for month_value in range(1, 13):  # 1 through 12 for January to December\n",
    "    # Filter the data for the specific month\n",
    "    month_df = df_with_month.filter(col(\"Month\") == month_value)\n",
    "    \n",
    "    # Add the filtered DataFrame to the list\n",
    "    monthly_dfs.append(month_df)\n",
    "    \n",
    "    # Show the filtered DataFrame for the specific month\n",
    "    print(f\"Sales Data for Month {month_value}:\")\n",
    "    month_df.show()\n",
    "\n",
    "# Now you have a list of DataFrames `monthly_dfs` where each entry corresponds to a different month\n"
   ]
  }
 ],
 "metadata": {
  "application/vnd.databricks.v1+notebook": {
   "dashboards": [],
   "environmentMetadata": null,
   "language": "python",
   "notebookMetadata": {
    "mostRecentlyExecutedCommandWithImplicitDF": {
     "commandId": 3999101719443081,
     "dataframes": [
      "_sqldf"
     ]
    },
    "pythonIndentUnit": 4
   },
   "notebookName": "DATAFRAME CREATION   2024-09-02 11:27:11",
   "widgets": {}
  }
 },
 "nbformat": 4,
 "nbformat_minor": 0
}
