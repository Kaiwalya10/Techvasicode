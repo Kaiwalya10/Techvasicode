{
 "cells": [
  {
   "cell_type": "code",
   "execution_count": 0,
   "metadata": {
    "application/vnd.databricks.v1+cell": {
     "cellMetadata": {},
     "inputWidgets": {},
     "nuid": "971c3faf-7088-4fc1-b361-7dda61ccaf6d",
     "showTitle": false,
     "title": ""
    }
   },
   "outputs": [],
   "source": [
    " /FileStore/tables/organizations_10000-2.csv"
   ]
  },
  {
   "cell_type": "code",
   "execution_count": 0,
   "metadata": {
    "application/vnd.databricks.v1+cell": {
     "cellMetadata": {
      "byteLimit": 2048000,
      "rowLimit": 10000
     },
     "inputWidgets": {},
     "nuid": "0c6ae133-e7c4-4f3e-a01f-453fef66b85e",
     "showTitle": false,
     "title": ""
    }
   },
   "outputs": [
    {
     "output_type": "stream",
     "name": "stdout",
     "output_type": "stream",
     "text": [
      "+-----+---------------+--------------------+--------------------+--------------------+--------------------+-------+--------------------+-------------------+\n|Index|Organization Id|                Name|             Website|             Country|         Description|Founded|            Industry|Number of employees|\n+-----+---------------+--------------------+--------------------+--------------------+--------------------+-------+--------------------+-------------------+\n|    1|522816eF8fdBE6d|        Mckinney PLC|    http://soto.com/|           Sri Lanka|Synergized global...|   1988|               Dairy|               3930|\n|    2|70C7FBD7e6Aa3Ea|      Cunningham LLC|http://harding-du...|             Namibia|Team-oriented fau...|   2018|             Library|               7871|\n|    3|428B397eA2d7290|          Ruiz-Walls|http://www.atkins...|                Iran|Re-contextualized...|   2003|Hospital / Health...|               3095|\n|    4|9D234Ae8Cc51C1c|Parrish, Osborne ...|http://salazar.info/|British Indian Oc...|Fully-configurabl...|   1989|        Supermarkets|               5422|\n|    5|6CDCcdE3D0b7b44|Diaz, Robles and ...|https://www.brook...|            Botswana|Inverse intangibl...|   2013|      Nanotechnology|               3135|\n|    6|cdAD9BBF227ADAE|           Keith PLC|http://www.mathew...|             Ecuador|Cross-group coher...|   1978|   Online Publishing|               7233|\n|    7|0fe6F8Dd1Cf5e4d|      Humphrey-Myers|https://faulkner-...|        Sierra Leone|Adaptive directio...|   2005| Publishing Industry|               6022|\n|    8|ECC0FBd0dc4aEfc|   Castaneda-Mcmahon|http://www.anthon...|            Zimbabwe|Front-line value-...|   2015|     Defense / Space|               4580|\n|    9|e0E6cfAE68d08c9|       Santos-Bowman|https://www.oneil...|             Ecuador|Multi-layered opt...|   1979|   Computer Hardware|               3245|\n|   10|A7DdBb239A86689|        Valdez-Estes|http://melendez-m...|         Timor-Leste|Diverse next gene...|   1985|            Plastics|               1785|\n|   11|6a74D1bF2BC1d65|        Young-Zavala|http://www.ortiz....|             Ukraine|Sharable multimed...|   1972|               Music|               2985|\n|   12|Cc5293Dbc2A92bE|         Shaffer Inc|https://www.sando...|      United Kingdom|Sharable coherent...|   1997|          Automotive|                839|\n|   13|849CEAb2f65c439|         Gaines-Vang|http://www.levy.com/|            Thailand|Compatible web-en...|   2021|   Online Publishing|               3135|\n|   14|DcFCcD6B1a1A736|     Larsen-Garrison|  https://walsh.com/|              Turkey|Polarized composi...|   2014|  Building Materials|               7261|\n|   15|a8dc16ba1b00F3c|          Taylor LLC|https://www.allen...|            Kiribati|Re-contextualized...|   1971|Information Services|               2427|\n|   16|2B6c7b5bEDdeD8d|         Lindsey Ltd|https://logan-mck...|              Canada|Profit-focused op...|   1981|           Chemicals|               6477|\n|   17|fD4BD3662B6F92D|          Rich-Kelly|https://www.fowle...|            Colombia|Triple-buffered e...|   1994|Investment Bankin...|               4263|\n|   18|3F2A9d9c44af88f|           Solis PLC|  https://gomez.com/|            Suriname|Stand-alone zero ...|   2004|        E - Learning|               2546|\n|   19|4eBE2067f1F8d7E|       David-Summers|  http://levine.biz/|             Burundi|Monitored mobile ...|   2019|           Machinery|                219|\n|   20|e8F94361bbDcf9b|         Orr-Stanley|http://www.rosale...|          Kazakhstan|Triple-buffered s...|   1979|         Photography|                581|\n+-----+---------------+--------------------+--------------------+--------------------+--------------------+-------+--------------------+-------------------+\nonly showing top 20 rows\n\nroot\n |-- Index: integer (nullable = true)\n |-- Organization Id: string (nullable = true)\n |-- Name: string (nullable = true)\n |-- Website: string (nullable = true)\n |-- Country: string (nullable = true)\n |-- Description: string (nullable = true)\n |-- Founded: integer (nullable = true)\n |-- Industry: string (nullable = true)\n |-- Number of employees: integer (nullable = true)\n\n"
     ]
    }
   ],
   "source": [
    "from pyspark.sql import SparkSession\n",
    "spark = SparkSession.builder.appName(\"example\").getOrCreate()\n",
    "df = spark.read.format(\"csv\").option(\"header\",\"true\").option(\"inferschema\",\"true\").load(\"/FileStore/tables/organizations_10000-2.csv\")\n",
    "df.show()\n",
    "\n",
    "df.printSchema()\n",
    "\n",
    "df.write.mode(\"overwrite\").format(\"parquet\").save(\"/FileStore/tables/new_data\")\n",
    "\n",
    "\n",
    "new_columns = [col.replace(' ', '_').replace('|', '') for col in df.columns]\n",
    "df = df.toDF(*new_columns)\n",
    "\n",
    "df.write.mode(\"overwrite\").format(\"delta\").save(\"/FileStore/tables/new_data1\")"
   ]
  }
 ],
 "metadata": {
  "application/vnd.databricks.v1+notebook": {
   "dashboards": [],
   "environmentMetadata": null,
   "language": "python",
   "notebookMetadata": {
    "pythonIndentUnit": 4
   },
   "notebookName": "READING FILE IN DELTA AND  PARQUET FORMAT 2024-08-21 16:03:34",
   "widgets": {}
  }
 },
 "nbformat": 4,
 "nbformat_minor": 0
}
